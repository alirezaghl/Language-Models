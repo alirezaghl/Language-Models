{
  "nbformat": 4,
  "nbformat_minor": 0,
  "metadata": {
    "colab": {
      "provenance": []
    },
    "kernelspec": {
      "name": "python3",
      "display_name": "Python 3"
    },
    "language_info": {
      "name": "python"
    }
  },
  "cells": [
    {
      "cell_type": "code",
      "source": [
        "from gpt2 import generate_and_print_sample, generate_text\n",
        "from gpt2 import GPT, GPTConfig"
      ],
      "metadata": {
        "id": "GkvTQo2cXgi8"
      },
      "execution_count": 21,
      "outputs": []
    },
    {
      "cell_type": "code",
      "source": [
        "device = torch.device(\"cuda\" if torch.cuda.is_available() else \"cpu\")\n",
        "model = GPT(GPTConfig())\n",
        "model.load_state_dict(torch.load('gpt2_model.pth'))\n",
        "model.eval()"
      ],
      "metadata": {
        "id": "MaKwLyQEeRtr"
      },
      "execution_count": null,
      "outputs": []
    },
    {
      "cell_type": "code",
      "source": [
        "prompts = [\n",
        "    \"It was not till\",\n",
        "    \"since I've chucked\",\n",
        "    \"She raised her eyebrows with\",\n",
        "]\n",
        "\n",
        "for prompt in prompts:\n",
        "    print(f\"Prompt: {prompt}\")\n",
        "    generate_and_print_sample(model, tokenizer=GPTConfig.tokenizer, device=device, start_context=prompt)\n",
        "    print(\"\\n\")"
      ],
      "metadata": {
        "colab": {
          "base_uri": "https://localhost:8080/"
        },
        "id": "1J5Uqu8nX_lI",
        "outputId": "91d77659-61e9-4857-f276-274962943112"
      },
      "execution_count": 27,
      "outputs": [
        {
          "output_type": "stream",
          "name": "stdout",
          "text": [
            "Prompt: It was not till\n",
            "It was not till thought Jack Gisburn rather a cheap genius--though a good fellow enough--so it was no great surprise to me to hear that, in the height of his glory, he had dropped his painting, married a rich widow, and established himself in a villa on the Riviera. (Though I rather thought it would have been Rome or Florence.)  \"The height of his glory\"--that was what the women called it. I can hear Mrs. Gideon Thwing--his last\n",
            "\n",
            "\n",
            "Prompt: since I've chucked\n",
            "since I've chucked always get to have, for he answered with a deprecating laugh: \"Yes--she's an awful simpleton, you know, Mrs. Stroud. Her only idea was to have him done by a fashionable painter--ah, poor Stroud! She thought it the surest way of proclaiming his greatness--of forcing it on a purblind public. And at the moment I was _the_ fashionable painter.\"  \"Ah, poor Stroud--as you say. Was _\n",
            "\n",
            "\n",
            "Prompt: She raised her eyebrows with\n",
            "She raised her eyebrows with an: \" of the axioms he laid down across the Sevres and silver of an exquisitely appointed luncheon-table, when, on a later day, I had again run over from Monte Carlo; and Mrs. Gisburn, beaming on him, added for my enlightenment: \"Jack is so morbidly sensitive to every form of beauty.\"  Poor Jack! It had always been his fate to have women say such things of him: the fact should be set down\n",
            "\n",
            "\n"
          ]
        }
      ]
    }
  ]
}